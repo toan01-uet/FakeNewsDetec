{
  "nbformat": 4,
  "nbformat_minor": 0,
  "metadata": {
    "colab": {
      "name": "fasttext.ipynb",
      "provenance": [],
      "collapsed_sections": [],
      "mount_file_id": "1NjTJBO4Jtb_rv_0Gju1uB0_CMV5o0Y_w",
      "authorship_tag": "ABX9TyM9VXm4VG2P1ufVTlAqJLoe",
      "include_colab_link": true
    },
    "kernelspec": {
      "name": "python3",
      "display_name": "Python 3"
    },
    "accelerator": "GPU"
  },
  "cells": [
    {
      "cell_type": "markdown",
      "metadata": {
        "id": "view-in-github",
        "colab_type": "text"
      },
      "source": [
        "<a href=\"https://colab.research.google.com/github/toan01-uet/FakeNewsDetec/blob/main/fasttext.ipynb\" target=\"_parent\"><img src=\"https://colab.research.google.com/assets/colab-badge.svg\" alt=\"Open In Colab\"/></a>"
      ]
    },
    {
      "cell_type": "markdown",
      "metadata": {
        "id": "Ok4c_gAyXZcM"
      },
      "source": [
        "**LOAD DATA**"
      ]
    },
    {
      "cell_type": "code",
      "metadata": {
        "id": "gwRlgu89W013"
      },
      "source": [
        "import pandas as pd\r\n",
        "import numpy as np"
      ],
      "execution_count": 1,
      "outputs": []
    },
    {
      "cell_type": "code",
      "metadata": {
        "colab": {
          "base_uri": "https://localhost:8080/",
          "height": 137
        },
        "id": "CLGrzLRsXpwd",
        "outputId": "e4b64090-116b-432d-a43c-a25424f75b19"
      },
      "source": [
        "data = pd.read_csv(\"/content/drive/MyDrive/Colab Notebooks/data_lab/pre_train_data.csv\",usecols=['post_message','label'])\r\n",
        "data['post_message'].iloc[0]"
      ],
      "execution_count": 2,
      "outputs": [
        {
          "output_type": "execute_result",
          "data": {
            "application/vnd.google.colaboratory.intrinsic+json": {
              "type": "string"
            },
            "text/plain": [
              "'thăng cấp_bậc hàm đối_với 2 cán_bộ chiến sỹ hy_sinh ở đà nẵng ngày 34 đại_tướng tô lâm bộ_trưởng bộ công_an đã ký quyết_định số 2398 qđ - bca-x01 thăng cấp_bậc hàm từ đại_úy lên thiếu_tá đối_với đồng_chí đặng_thanh tuấn . cùng ngày thiếu_tướng vũ xuân_viên giám_đốc công_an thành_phố đà nẵng ký quyết_định số 479 qđ - cathành phố thăng cấp_bậc hàm từ trung_sĩ lên thượng sỹ đối_với đồng_chí võ văn toàn . đây là 2 cán_bộ chiến sỹ đã hy_sinh trong quá_trình thực_hiện nhiệm_vụ đảm_bảo an_ninh trật_tự phòng_chống tội_phạm trên địa_bàn thành_phố đà nẵng . trước đó vào lúc 20 h40 ngày 242020 công_an thành_phố . đà nẵng nhận được tin báo của nhân_dân có nhóm đối_tượng đua xe và cướp_giật người đi đường tại khu_vực quận sơn_trà trong bối_cảnh toàn_quốc thực_hiện cách_ly xã_hội theo chỉ_thị số 16 của thủ_tướng chính_phủ . công_an thành_phố . đà nẵng đã chỉ_đạo cho công_an quận sơn_trà triển_khai lực_lượng truy bắt nhóm đối_tượng . trong quá_trình truy_đuổi các đối_tượng trên đại_úy đặng_thanh_tuấn và trung_sĩ võ văn toàn_bị tai_nạn và hy_sinh . ---------- ảnh ttxviệt nam'"
            ]
          },
          "metadata": {
            "tags": []
          },
          "execution_count": 2
        }
      ]
    },
    {
      "cell_type": "code",
      "metadata": {
        "colab": {
          "base_uri": "https://localhost:8080/"
        },
        "id": "BjlZjvZkT591",
        "outputId": "ebbcf0b9-c687-4006-e545-b852dee5f63f"
      },
      "source": [
        "data.info()"
      ],
      "execution_count": 3,
      "outputs": [
        {
          "output_type": "stream",
          "text": [
            "<class 'pandas.core.frame.DataFrame'>\n",
            "RangeIndex: 3397 entries, 0 to 3396\n",
            "Data columns (total 2 columns):\n",
            " #   Column        Non-Null Count  Dtype \n",
            "---  ------        --------------  ----- \n",
            " 0   post_message  3397 non-null   object\n",
            " 1   label         3397 non-null   int64 \n",
            "dtypes: int64(1), object(1)\n",
            "memory usage: 53.2+ KB\n"
          ],
          "name": "stdout"
        }
      ]
    },
    {
      "cell_type": "code",
      "metadata": {
        "id": "6J4N_Ax1KltZ"
      },
      "source": [
        "import re\r\n",
        "# Import Vietnamese stop words\r\n",
        "stopwords = set()\r\n",
        "with open(\"/content/drive/MyDrive/Colab Notebooks/data_lab/vietnamese-stopwords-dash.txt\", \"r\") as reader:\r\n",
        "    content = reader.readlines()\r\n",
        "    for x in content:\r\n",
        "        stopwords.add(x.strip())\r\n",
        "def deEmojify(text):\r\n",
        "    regrex_pattern = re.compile(pattern = \"[\"\r\n",
        "        u\"\\U0001F600-\\U0001F64F\"  # emoticons\r\n",
        "        u\"\\U0001F300-\\U0001F5FF\"  # symbols & pictographs\r\n",
        "        u\"\\U0001F680-\\U0001F6FF\"  # transport & map symbols\r\n",
        "        u\"\\U0001F1E0-\\U0001F1FF\"  # flags (iOS)\r\n",
        "                           \"]+\", flags = re.UNICODE)\r\n",
        "    return regrex_pattern.sub(r'',text)\r\n",
        "\r\n",
        "def remove_stopwords(line):\r\n",
        "    words = []\r\n",
        "    for word in line.strip().split():\r\n",
        "        if word not in stopwords:\r\n",
        "            words.append(word)\r\n",
        "    return ' '.join(words)\r\n",
        "def preprocessor(text):\r\n",
        "    # Remove stop words\r\n",
        "    text = remove_stopwords(text)\r\n",
        "    # Remove emoji \r\n",
        "    text = deEmojify(text)\r\n",
        "\r\n",
        "    punc_list = '.,;:?!/\\|'\r\n",
        "    for punc in punc_list:\r\n",
        "      text = text.replace(punc, ' ')\r\n",
        "    return text\r\n",
        "## remove stop words\r\n",
        "data['post_message'] = data['post_message'].apply(preprocessor)\r\n"
      ],
      "execution_count": 4,
      "outputs": []
    },
    {
      "cell_type": "code",
      "metadata": {
        "colab": {
          "base_uri": "https://localhost:8080/",
          "height": 120
        },
        "id": "TUUlvXRRZOJi",
        "outputId": "1d4059d4-4e10-4b6e-ce45-5ae302e6d988"
      },
      "source": [
        "data['post_message'].iloc[0]"
      ],
      "execution_count": 5,
      "outputs": [
        {
          "output_type": "execute_result",
          "data": {
            "application/vnd.google.colaboratory.intrinsic+json": {
              "type": "string"
            },
            "text/plain": [
              "'thăng cấp_bậc hàm 2 cán_bộ chiến sỹ hy_sinh đà nẵng 34 đại_tướng tô lâm bộ_trưởng công_an ký quyết_định 2398 qđ - bca-x01 thăng cấp_bậc hàm đại_úy thiếu_tá đồng_chí đặng_thanh tuấn   thiếu_tướng vũ xuân_viên giám_đốc công_an thành_phố đà nẵng ký quyết_định 479 qđ - cathành phố thăng cấp_bậc hàm trung_sĩ thượng sỹ đồng_chí võ văn toàn   2 cán_bộ chiến sỹ hy_sinh nhiệm_vụ an_ninh trật_tự phòng_chống tội_phạm địa_bàn thành_phố đà nẵng   20 h40 242020 công_an thành_phố   đà nẵng báo nhân_dân đối_tượng đua xe cướp_giật đi đường khu_vực sơn_trà bối_cảnh toàn_quốc cách_ly xã_hội chỉ_thị 16 thủ_tướng chính_phủ   công_an thành_phố   đà nẵng chỉ_đạo công_an sơn_trà triển_khai lực_lượng truy bắt đối_tượng   truy_đuổi đối_tượng đại_úy đặng_thanh_tuấn trung_sĩ võ văn toàn_bị tai_nạn hy_sinh   ---------- ảnh ttxviệt nam'"
            ]
          },
          "metadata": {
            "tags": []
          },
          "execution_count": 5
        }
      ]
    },
    {
      "cell_type": "code",
      "metadata": {
        "colab": {
          "base_uri": "https://localhost:8080/"
        },
        "id": "q82Z-vhgXcr1",
        "outputId": "988bfbe6-1244-4174-a60c-3a3dbd6db8df"
      },
      "source": [
        "data['new_label']=['__label__'+ str(s) for s in data['label']]\r\n",
        "data['new_data'] = [i+\" \"+ str(s) for (i,s) in zip(data['new_label'],data['post_message'])]\r\n",
        "data['new_data']"
      ],
      "execution_count": 6,
      "outputs": [
        {
          "output_type": "execute_result",
          "data": {
            "text/plain": [
              "0       __label__0 thăng cấp_bậc hàm 2 cán_bộ chiến sỹ...\n",
              "1       __label__0 tư_vấn mùa thi nộp hồ_sơ trúng_tuyể...\n",
              "2       __label__0 cơ_quan cạnh_tranh thị_trường quyết...\n",
              "3       __label__0 7 ca quảng_nam hành_khách chuyến ba...\n",
              "4       __label__0 học_thể dụ ‌ c thầy_giáo nguyễn_văn...\n",
              "                              ...                        \n",
              "3392    __label__0 liên_minh cứu sông mekong save the ...\n",
              "3393    __label__0 mẹ việt nam anh_hùng 95 may khẩu_tr...\n",
              "3394    __label__0 cung khan kiếm nhu_cầu áp_lực tăng_...\n",
              "3395    __label__0 cảnh_tỉnh thanh_niên dân tổ     tốc...\n",
              "3396    __label__0 học lái_xe hạng b2 chữa bá_bệnh lãn...\n",
              "Name: new_data, Length: 3397, dtype: object"
            ]
          },
          "metadata": {
            "tags": []
          },
          "execution_count": 6
        }
      ]
    },
    {
      "cell_type": "code",
      "metadata": {
        "id": "psiHVHlqbtAg"
      },
      "source": [
        "txt_file = \"/content/drive/MyDrive/Colab Notebooks/data_lab/text_data.txt\"\r\n",
        "with open(txt_file, \"w\") as my_output_file:\r\n",
        "  [ my_output_file.write(cell+'\\n') for cell in data['new_data']]\r\n",
        "  my_output_file.close()"
      ],
      "execution_count": 7,
      "outputs": []
    },
    {
      "cell_type": "code",
      "metadata": {
        "colab": {
          "base_uri": "https://localhost:8080/"
        },
        "id": "JeP3ItUTeN7d",
        "outputId": "c9941fb6-2842-4d1c-f4df-6334e65dd715"
      },
      "source": [
        "!head /content/sample_data/text_data.txt"
      ],
      "execution_count": 8,
      "outputs": [
        {
          "output_type": "stream",
          "text": [
            "__label__0 thăng cấp_bậc hàm 2 cán_bộ chiến sỹ hy_sinh đà nẵng 34 đại_tướng tô lâm bộ_trưởng công_an ký quyết_định 2398 qđ - bca-x01 thăng cấp_bậc hàm đại_úy thiếu_tá đồng_chí đặng_thanh tuấn   thiếu_tướng vũ xuân_viên giám_đốc công_an thành_phố đà nẵng ký quyết_định 479 qđ - cathành phố thăng cấp_bậc hàm trung_sĩ thượng sỹ đồng_chí võ văn toàn   2 cán_bộ chiến sỹ hy_sinh nhiệm_vụ an_ninh trật_tự phòng_chống tội_phạm địa_bàn thành_phố đà nẵng   20 h40 242020 công_an thành_phố   đà nẵng báo nhân_dân đối_tượng đua xe cướp_giật đi đường khu_vực sơn_trà bối_cảnh toàn_quốc cách_ly xã_hội chỉ_thị 16 thủ_tướng chính_phủ   công_an thành_phố   đà nẵng chỉ_đạo công_an sơn_trà triển_khai lực_lượng truy bắt đối_tượng   truy_đuổi đối_tượng đại_úy đặng_thanh_tuấn trung_sĩ võ văn toàn_bị tai_nạn hy_sinh   ---------- ảnh ttxviệt nam\n",
            "__label__0 tư_vấn mùa thi nộp hồ_sơ trúng_tuyển 15 6 6 chương_trình tư_vấn mùa thi báo thanh_niên truyền_hình đài_phát_thanh - truyền_hình bình_dương trực_tuyến fanpage facebook kênh youtube báo thanh_niên  \n",
            "__label__0 cơ_quan cạnh_tranh thị_trường quyết_định điều_tra thương_vụ thâu_tóm dịch_vụ ảnh động giphy giá 400 triệu usd facebook  \n",
            "__label__0 7 ca quảng_nam hành_khách chuyến bay bệnh_nhân nhiễm 17 kết_quả âm_tính covid-19  \n",
            "__label__0 học_thể dụ ‌ c thầy_giáo nguyễn_văn_quân phụ trác ‌ h d   thầy quân đi đường quyền ” ngấ ‌ t trường ban_giám_hiệu nhà_trường đi ‌ u điều_trị  \n",
            "__label__0 luật_sư trần hồng phong cung_cấp tình_tiết vụ hồ duy_hải cqđt xảy vụ_án 20 h30 mâu_thuẫn  \n",
            "__label__0 hà tĩnh nằm nguy_cơ 12 tỉnh_thành chiều 15-4 thứ_trưởng y_tế nguyễn_thanh_long ban chỉ_đạo quốc_gia phòng_chống dịch covid-19 chia tỉnh - thành thành 3 nguy_cơ nguy_cơ nguy_cơ giải_pháp phòng_chống dịch   ban chỉ_đạo phân_loại địa_phương tiêu_chí đầu_mối giao_thông mật_độ di_chuyển đi_lại   biên_giới biên_giới   tiếp_xúc nước_ngoài   mật_độ dân_cư   mật_độ nhà_máy khu_công_nghiệp     nguy_cơ 12 tỉnh_thành hà nội lào cai quảng_ninh bắc_ninh ninh_bình đà nẵng quảng nam bình_thuận khánh_hòa tây_ninh hà tĩnh   ban chỉ_đạo kiến_nghị tỉnh thực nghiêm nội_dung chỉ_thị 16 thủ_tướng biện_pháp cấp_bách phòng_chống dịch covid-19 22-4   nguy_cơ 15 tỉnh_thành bình_dương cần_thơ đồng nai hà nam kiên giang nam định hải_phòng sóc_trăng thái_nguyên thừa_thiên - huế đồng tháp bình_phước nghệ an lạng sơn_an_giang   tỉnh_thành nguy_cơ   hai ban chỉ_đạo kiến_nghị thủ_tướng chỉ_đạo hoạt_động sản_xuất kinh_doanh hoạt_động cơ_sở bảo_đảm an_toàn vệ_sinh dịch_tễ … giải_pháp hạn_chế dân đeo khẩu_trang thường_xuyên rửa   mặt_khác cấm đông hoạt_động tôn_giáo vui_chơi giải_trí  _ban chỉ_đạo thống_nhất bắt_buộc tỉnh nghiêm_chỉnh đeo khẩu_trang đông bảo_đảm vệ_sinh dịch_tễ     loại_hình dịch_vụ kinh_doanh vui_chơi giải_trí phép hoạt_động  \n",
            "__label__1 thông_điệp tranh khải_hoàn ” nghĩa chiến_thắng trở tranh ngày_mai tươi_sáng việt nam chiến_thắng đại_dịch covid - 19   bác_sĩ cất đi áo anh_hùng ” tạm đi gánh đè_nén suốt mấy trời trở mái ấm gia_đình vòng_tay yêu_thương đồng_bào học_sinh trở_lại mái trường thân_yêu hoan ca quây_quần hạnh_phúc     t     ương lai đất_nước góp_phần tương_lai tốt_đẹp nâng tinh_thần đại_đoàn_kết chấp_hành tin_tưởng tuyệt_đối đảng nhà_nước   vũ đức đam nhấn_mạnh chiến_thắng dân_tộc việt nam ta chiến_thắng ”   đồng_lòng thành_công  \n",
            "__label__1 việt nam 145 ca covid-19 thông_tin tiểu_ban điều_trị - ban chỉ_đạo quốc_gia phòng_chống dịch covid-19 hôm_nay 134 bệnh_viện đa_khoa bạc_liêu 1 bệnh_nhân công_bố bệnh   bệnh_nhân hiện sức_khỏe ổn_định sốt ho thở đau_ngực xuất_viện bn 155 bệnh_nhân nữ 21 quốc_tịch việt nam - viện 2632020 điều_trị bệnh_viện bệnh_nhân xét_nghiệm kết_quả xét_nghiệm âm_tính sars-cov-2 34-9420 20   trường_hợp bn 155 cách_ly theo_dõi sức_khỏe 14  \n",
            "__label__0 cấm vô thời_hạn chuyến bay việt nam hàn quốc dịch corona hàn bùng_phát  \n"
          ],
          "name": "stdout"
        }
      ]
    },
    {
      "cell_type": "code",
      "metadata": {
        "colab": {
          "base_uri": "https://localhost:8080/"
        },
        "id": "L1_tI082f0S7",
        "outputId": "30bac2c3-c858-43f1-e28c-f3fe68578f6b"
      },
      "source": [
        "!wc /content/sample_data/text_data.txt\r\n"
      ],
      "execution_count": 9,
      "outputs": [
        {
          "output_type": "stream",
          "text": [
            "   3397  213021 1867606 /content/sample_data/text_data.txt\n"
          ],
          "name": "stdout"
        }
      ]
    },
    {
      "cell_type": "code",
      "metadata": {
        "id": "FCRPAAetf9ll"
      },
      "source": [
        "!head -n 2378 /content/sample_data/text_data.txt > cooking_.train\r\n",
        "!tail -n 1019 /content/sample_data/text_data.txt > cooking_.valid"
      ],
      "execution_count": 10,
      "outputs": []
    },
    {
      "cell_type": "code",
      "metadata": {
        "colab": {
          "base_uri": "https://localhost:8080/"
        },
        "id": "HdGOrRpzZG9z",
        "outputId": "bf91e884-d66e-4263-8bbb-c125f9ae177b"
      },
      "source": [
        "!pip install fasttext"
      ],
      "execution_count": 11,
      "outputs": [
        {
          "output_type": "stream",
          "text": [
            "Requirement already satisfied: fasttext in /usr/local/lib/python3.6/dist-packages (0.9.2)\n",
            "Requirement already satisfied: numpy in /usr/local/lib/python3.6/dist-packages (from fasttext) (1.19.5)\n",
            "Requirement already satisfied: setuptools>=0.7.0 in /usr/local/lib/python3.6/dist-packages (from fasttext) (51.3.3)\n",
            "Requirement already satisfied: pybind11>=2.2 in /usr/local/lib/python3.6/dist-packages (from fasttext) (2.6.2)\n"
          ],
          "name": "stdout"
        }
      ]
    },
    {
      "cell_type": "code",
      "metadata": {
        "id": "r-1e_Eiraowr"
      },
      "source": [
        "#epoch  10,15,20,25\r\n",
        "#ngrams 2,3\r\n",
        "#lr e-3, e-2, e-1, 1"
      ],
      "execution_count": 12,
      "outputs": []
    },
    {
      "cell_type": "code",
      "metadata": {
        "id": "4XHGwemPfQ3B"
      },
      "source": [
        "import fasttext\r\n",
        "lrs=[0.1, 0.3, 0.5, 0.7, 0.9]\r\n",
        "epochs=[10, 15, 20, 25]\r\n",
        "ngrams = [2,3]\r\n",
        "final=[0, 0, 0]\r\n",
        "performance = 0 #f1_score\r\n",
        "#grid search\r\n",
        "for lr in lrs:\r\n",
        "  for epoch in epochs:\r\n",
        "    for ngram in ngrams:\r\n",
        "      #train\r\n",
        "      model = fasttext.train_supervised(input=\"cooking_.train\", lr= lr, epoch= epoch, wordNgrams = ngram ) \r\n",
        "      #test\r\n",
        "      cur_performance = model.test(\"cooking_.valid\")[2]\r\n",
        "      if (cur_performance > performance):\r\n",
        "        final = [lr,epoch,ngram]\r\n",
        "        performance = cur_performance"
      ],
      "execution_count": 16,
      "outputs": []
    },
    {
      "cell_type": "code",
      "metadata": {
        "colab": {
          "base_uri": "https://localhost:8080/"
        },
        "id": "Z0b2obB-kPrV",
        "outputId": "936c8667-ff74-45ac-d240-2541cee9a7fc"
      },
      "source": [
        "print(performance)\r\n",
        "print(final)"
      ],
      "execution_count": 17,
      "outputs": [
        {
          "output_type": "stream",
          "text": [
            "0.831207065750736\n",
            "[0.1, 10, 3]\n"
          ],
          "name": "stdout"
        }
      ]
    },
    {
      "cell_type": "code",
      "metadata": {
        "colab": {
          "base_uri": "https://localhost:8080/"
        },
        "id": "eYtn9-YnZUjD",
        "outputId": "40100936-6185-44d3-a358-4ad6fdd135d2"
      },
      "source": [
        "# import fasttext\r\n",
        "# model = fasttext.train_supervised(input='cooking_.train', autotuneValidationFile='cooking_.valid', autotuneMetric=\"f1:__label__1\")\r\n",
        "final_model = fasttext.train_supervised(input=\"cooking_.train\", lr= final[0], epoch= final[1], wordNgrams = final[2] )\r\n",
        "final_model.test(\"cooking_.valid\")"
      ],
      "execution_count": 18,
      "outputs": [
        {
          "output_type": "execute_result",
          "data": {
            "text/plain": [
              "(1019, 0.831207065750736, 0.831207065750736)"
            ]
          },
          "metadata": {
            "tags": []
          },
          "execution_count": 18
        }
      ]
    },
    {
      "cell_type": "code",
      "metadata": {
        "colab": {
          "base_uri": "https://localhost:8080/",
          "height": 419
        },
        "id": "UuvwE5puZqGY",
        "outputId": "6ab1adf9-c0a4-4113-a713-5ba73470d97d"
      },
      "source": [
        "test_data = data.iloc[2378:]\r\n",
        "test_data"
      ],
      "execution_count": 19,
      "outputs": [
        {
          "output_type": "execute_result",
          "data": {
            "text/html": [
              "<div>\n",
              "<style scoped>\n",
              "    .dataframe tbody tr th:only-of-type {\n",
              "        vertical-align: middle;\n",
              "    }\n",
              "\n",
              "    .dataframe tbody tr th {\n",
              "        vertical-align: top;\n",
              "    }\n",
              "\n",
              "    .dataframe thead th {\n",
              "        text-align: right;\n",
              "    }\n",
              "</style>\n",
              "<table border=\"1\" class=\"dataframe\">\n",
              "  <thead>\n",
              "    <tr style=\"text-align: right;\">\n",
              "      <th></th>\n",
              "      <th>post_message</th>\n",
              "      <th>label</th>\n",
              "      <th>new_label</th>\n",
              "      <th>new_data</th>\n",
              "    </tr>\n",
              "  </thead>\n",
              "  <tbody>\n",
              "    <tr>\n",
              "      <th>2378</th>\n",
              "      <td>15 h chiều 14-3 bình_thuận phun xịt khử_trùng ...</td>\n",
              "      <td>0</td>\n",
              "      <td>__label__0</td>\n",
              "      <td>__label__0 15 h chiều 14-3 bình_thuận phun xịt...</td>\n",
              "    </tr>\n",
              "    <tr>\n",
              "      <th>2379</th>\n",
              "      <td>cdc hà_nội hành_khách đi nhật sân_bay triệu_ch...</td>\n",
              "      <td>0</td>\n",
              "      <td>__label__0</td>\n",
              "      <td>__label__0 cdc hà_nội hành_khách đi nhật sân_b...</td>\n",
              "    </tr>\n",
              "    <tr>\n",
              "      <th>2380</th>\n",
              "      <td>bố_già mafia kinh_tế johnathan hạnh nguyễn - s...</td>\n",
              "      <td>1</td>\n",
              "      <td>__label__1</td>\n",
              "      <td>__label__1 bố_già mafia kinh_tế johnathan hạnh...</td>\n",
              "    </tr>\n",
              "    <tr>\n",
              "      <th>2381</th>\n",
              "      <td>vụ nữ_sinh quảng_ninh lột đồ clip tung mạng_li...</td>\n",
              "      <td>1</td>\n",
              "      <td>__label__1</td>\n",
              "      <td>__label__1 vụ nữ_sinh quảng_ninh lột đồ clip t...</td>\n",
              "    </tr>\n",
              "    <tr>\n",
              "      <th>2382</th>\n",
              "      <td>thạc_sĩ việt nam làm_việc bệnh_viện thâm quyến...</td>\n",
              "      <td>0</td>\n",
              "      <td>__label__0</td>\n",
              "      <td>__label__0 thạc_sĩ việt nam làm_việc bệnh_viện...</td>\n",
              "    </tr>\n",
              "    <tr>\n",
              "      <th>...</th>\n",
              "      <td>...</td>\n",
              "      <td>...</td>\n",
              "      <td>...</td>\n",
              "      <td>...</td>\n",
              "    </tr>\n",
              "    <tr>\n",
              "      <th>3392</th>\n",
              "      <td>liên_minh cứu sông mekong save the mekong kêu_...</td>\n",
              "      <td>0</td>\n",
              "      <td>__label__0</td>\n",
              "      <td>__label__0 liên_minh cứu sông mekong save the ...</td>\n",
              "    </tr>\n",
              "    <tr>\n",
              "      <th>3393</th>\n",
              "      <td>mẹ việt nam anh_hùng 95 may khẩu_trang chống d...</td>\n",
              "      <td>0</td>\n",
              "      <td>__label__0</td>\n",
              "      <td>__label__0 mẹ việt nam anh_hùng 95 may khẩu_tr...</td>\n",
              "    </tr>\n",
              "    <tr>\n",
              "      <th>3394</th>\n",
              "      <td>cung khan kiếm nhu_cầu áp_lực tăng_giá dự_án c...</td>\n",
              "      <td>0</td>\n",
              "      <td>__label__0</td>\n",
              "      <td>__label__0 cung khan kiếm nhu_cầu áp_lực tăng_...</td>\n",
              "    </tr>\n",
              "    <tr>\n",
              "      <th>3395</th>\n",
              "      <td>cảnh_tỉnh thanh_niên dân tổ     tốc_độ bàn_thờ...</td>\n",
              "      <td>0</td>\n",
              "      <td>__label__0</td>\n",
              "      <td>__label__0 cảnh_tỉnh thanh_niên dân tổ     tốc...</td>\n",
              "    </tr>\n",
              "    <tr>\n",
              "      <th>3396</th>\n",
              "      <td>học lái_xe hạng b2 chữa bá_bệnh lãnh_đạo y_tế ...</td>\n",
              "      <td>0</td>\n",
              "      <td>__label__0</td>\n",
              "      <td>__label__0 học lái_xe hạng b2 chữa bá_bệnh lãn...</td>\n",
              "    </tr>\n",
              "  </tbody>\n",
              "</table>\n",
              "<p>1019 rows × 4 columns</p>\n",
              "</div>"
            ],
            "text/plain": [
              "                                           post_message  ...                                           new_data\n",
              "2378  15 h chiều 14-3 bình_thuận phun xịt khử_trùng ...  ...  __label__0 15 h chiều 14-3 bình_thuận phun xịt...\n",
              "2379  cdc hà_nội hành_khách đi nhật sân_bay triệu_ch...  ...  __label__0 cdc hà_nội hành_khách đi nhật sân_b...\n",
              "2380  bố_già mafia kinh_tế johnathan hạnh nguyễn - s...  ...  __label__1 bố_già mafia kinh_tế johnathan hạnh...\n",
              "2381  vụ nữ_sinh quảng_ninh lột đồ clip tung mạng_li...  ...  __label__1 vụ nữ_sinh quảng_ninh lột đồ clip t...\n",
              "2382  thạc_sĩ việt nam làm_việc bệnh_viện thâm quyến...  ...  __label__0 thạc_sĩ việt nam làm_việc bệnh_viện...\n",
              "...                                                 ...  ...                                                ...\n",
              "3392  liên_minh cứu sông mekong save the mekong kêu_...  ...  __label__0 liên_minh cứu sông mekong save the ...\n",
              "3393  mẹ việt nam anh_hùng 95 may khẩu_trang chống d...  ...  __label__0 mẹ việt nam anh_hùng 95 may khẩu_tr...\n",
              "3394  cung khan kiếm nhu_cầu áp_lực tăng_giá dự_án c...  ...  __label__0 cung khan kiếm nhu_cầu áp_lực tăng_...\n",
              "3395  cảnh_tỉnh thanh_niên dân tổ     tốc_độ bàn_thờ...  ...  __label__0 cảnh_tỉnh thanh_niên dân tổ     tốc...\n",
              "3396  học lái_xe hạng b2 chữa bá_bệnh lãnh_đạo y_tế ...  ...  __label__0 học lái_xe hạng b2 chữa bá_bệnh lãn...\n",
              "\n",
              "[1019 rows x 4 columns]"
            ]
          },
          "metadata": {
            "tags": []
          },
          "execution_count": 19
        }
      ]
    },
    {
      "cell_type": "code",
      "metadata": {
        "colab": {
          "base_uri": "https://localhost:8080/"
        },
        "id": "qS5wqnq2aOjf",
        "outputId": "0468ae7e-da14-44f7-9c88-cf9edc54a677"
      },
      "source": [
        "print(test_data['label'].value_counts())\r\n",
        "print(test_data.info())"
      ],
      "execution_count": 20,
      "outputs": [
        {
          "output_type": "stream",
          "text": [
            "0    848\n",
            "1    171\n",
            "Name: label, dtype: int64\n",
            "<class 'pandas.core.frame.DataFrame'>\n",
            "RangeIndex: 1019 entries, 2378 to 3396\n",
            "Data columns (total 4 columns):\n",
            " #   Column        Non-Null Count  Dtype \n",
            "---  ------        --------------  ----- \n",
            " 0   post_message  1019 non-null   object\n",
            " 1   label         1019 non-null   int64 \n",
            " 2   new_label     1019 non-null   object\n",
            " 3   new_data      1019 non-null   object\n",
            "dtypes: int64(1), object(3)\n",
            "memory usage: 32.0+ KB\n",
            "None\n"
          ],
          "name": "stdout"
        }
      ]
    },
    {
      "cell_type": "code",
      "metadata": {
        "colab": {
          "base_uri": "https://localhost:8080/"
        },
        "id": "em2fW4MMZicY",
        "outputId": "353e8187-6877-4a11-fcc5-fd7b4cb40c0a"
      },
      "source": [
        "from sklearn.metrics import confusion_matrix,recall_score,precision_score\r\n",
        "\r\n",
        "# predict the data\r\n",
        "test_data[\"predicted\"] = test_data[\"post_message\"].apply(lambda x: model.predict(x)[0][0])\r\n",
        "\r\n",
        "# Create the confusion matrix\r\n",
        "\r\n",
        "test_data[\"predict\"] = test_data[\"predicted\"].apply(lambda x: str(x)[-1])\r\n",
        "test_data[\"predict\"] = test_data[\"predict\"].astype(int)\r\n",
        "\r\n",
        "print(confusion_matrix(test_data[\"label\"].values, test_data[\"predict\"].values))\r\n",
        "print(recall_score(test_data[\"label\"].values, test_data[\"predict\"].values))\r\n",
        "print(precision_score(test_data[\"label\"].values, test_data[\"predict\"].values))\r\n"
      ],
      "execution_count": 21,
      "outputs": [
        {
          "output_type": "stream",
          "text": [
            "[[822  26]\n",
            " [166   5]]\n",
            "0.029239766081871343\n",
            "0.16129032258064516\n"
          ],
          "name": "stdout"
        },
        {
          "output_type": "stream",
          "text": [
            "/usr/local/lib/python3.6/dist-packages/ipykernel_launcher.py:4: SettingWithCopyWarning: \n",
            "A value is trying to be set on a copy of a slice from a DataFrame.\n",
            "Try using .loc[row_indexer,col_indexer] = value instead\n",
            "\n",
            "See the caveats in the documentation: https://pandas.pydata.org/pandas-docs/stable/user_guide/indexing.html#returning-a-view-versus-a-copy\n",
            "  after removing the cwd from sys.path.\n",
            "/usr/local/lib/python3.6/dist-packages/ipykernel_launcher.py:8: SettingWithCopyWarning: \n",
            "A value is trying to be set on a copy of a slice from a DataFrame.\n",
            "Try using .loc[row_indexer,col_indexer] = value instead\n",
            "\n",
            "See the caveats in the documentation: https://pandas.pydata.org/pandas-docs/stable/user_guide/indexing.html#returning-a-view-versus-a-copy\n",
            "  \n",
            "/usr/local/lib/python3.6/dist-packages/ipykernel_launcher.py:9: SettingWithCopyWarning: \n",
            "A value is trying to be set on a copy of a slice from a DataFrame.\n",
            "Try using .loc[row_indexer,col_indexer] = value instead\n",
            "\n",
            "See the caveats in the documentation: https://pandas.pydata.org/pandas-docs/stable/user_guide/indexing.html#returning-a-view-versus-a-copy\n",
            "  if __name__ == '__main__':\n"
          ],
          "name": "stderr"
        }
      ]
    },
    {
      "cell_type": "code",
      "metadata": {
        "colab": {
          "base_uri": "https://localhost:8080/",
          "height": 419
        },
        "id": "JbFcYJMYbO-J",
        "outputId": "5b591b8c-ef21-4c47-b253-73286a230e32"
      },
      "source": [
        "test_data"
      ],
      "execution_count": 22,
      "outputs": [
        {
          "output_type": "execute_result",
          "data": {
            "text/html": [
              "<div>\n",
              "<style scoped>\n",
              "    .dataframe tbody tr th:only-of-type {\n",
              "        vertical-align: middle;\n",
              "    }\n",
              "\n",
              "    .dataframe tbody tr th {\n",
              "        vertical-align: top;\n",
              "    }\n",
              "\n",
              "    .dataframe thead th {\n",
              "        text-align: right;\n",
              "    }\n",
              "</style>\n",
              "<table border=\"1\" class=\"dataframe\">\n",
              "  <thead>\n",
              "    <tr style=\"text-align: right;\">\n",
              "      <th></th>\n",
              "      <th>post_message</th>\n",
              "      <th>label</th>\n",
              "      <th>new_label</th>\n",
              "      <th>new_data</th>\n",
              "      <th>predicted</th>\n",
              "      <th>predict</th>\n",
              "    </tr>\n",
              "  </thead>\n",
              "  <tbody>\n",
              "    <tr>\n",
              "      <th>2378</th>\n",
              "      <td>15 h chiều 14-3 bình_thuận phun xịt khử_trùng ...</td>\n",
              "      <td>0</td>\n",
              "      <td>__label__0</td>\n",
              "      <td>__label__0 15 h chiều 14-3 bình_thuận phun xịt...</td>\n",
              "      <td>__label__0</td>\n",
              "      <td>0</td>\n",
              "    </tr>\n",
              "    <tr>\n",
              "      <th>2379</th>\n",
              "      <td>cdc hà_nội hành_khách đi nhật sân_bay triệu_ch...</td>\n",
              "      <td>0</td>\n",
              "      <td>__label__0</td>\n",
              "      <td>__label__0 cdc hà_nội hành_khách đi nhật sân_b...</td>\n",
              "      <td>__label__0</td>\n",
              "      <td>0</td>\n",
              "    </tr>\n",
              "    <tr>\n",
              "      <th>2380</th>\n",
              "      <td>bố_già mafia kinh_tế johnathan hạnh nguyễn - s...</td>\n",
              "      <td>1</td>\n",
              "      <td>__label__1</td>\n",
              "      <td>__label__1 bố_già mafia kinh_tế johnathan hạnh...</td>\n",
              "      <td>__label__0</td>\n",
              "      <td>0</td>\n",
              "    </tr>\n",
              "    <tr>\n",
              "      <th>2381</th>\n",
              "      <td>vụ nữ_sinh quảng_ninh lột đồ clip tung mạng_li...</td>\n",
              "      <td>1</td>\n",
              "      <td>__label__1</td>\n",
              "      <td>__label__1 vụ nữ_sinh quảng_ninh lột đồ clip t...</td>\n",
              "      <td>__label__0</td>\n",
              "      <td>0</td>\n",
              "    </tr>\n",
              "    <tr>\n",
              "      <th>2382</th>\n",
              "      <td>thạc_sĩ việt nam làm_việc bệnh_viện thâm quyến...</td>\n",
              "      <td>0</td>\n",
              "      <td>__label__0</td>\n",
              "      <td>__label__0 thạc_sĩ việt nam làm_việc bệnh_viện...</td>\n",
              "      <td>__label__0</td>\n",
              "      <td>0</td>\n",
              "    </tr>\n",
              "    <tr>\n",
              "      <th>...</th>\n",
              "      <td>...</td>\n",
              "      <td>...</td>\n",
              "      <td>...</td>\n",
              "      <td>...</td>\n",
              "      <td>...</td>\n",
              "      <td>...</td>\n",
              "    </tr>\n",
              "    <tr>\n",
              "      <th>3392</th>\n",
              "      <td>liên_minh cứu sông mekong save the mekong kêu_...</td>\n",
              "      <td>0</td>\n",
              "      <td>__label__0</td>\n",
              "      <td>__label__0 liên_minh cứu sông mekong save the ...</td>\n",
              "      <td>__label__0</td>\n",
              "      <td>0</td>\n",
              "    </tr>\n",
              "    <tr>\n",
              "      <th>3393</th>\n",
              "      <td>mẹ việt nam anh_hùng 95 may khẩu_trang chống d...</td>\n",
              "      <td>0</td>\n",
              "      <td>__label__0</td>\n",
              "      <td>__label__0 mẹ việt nam anh_hùng 95 may khẩu_tr...</td>\n",
              "      <td>__label__0</td>\n",
              "      <td>0</td>\n",
              "    </tr>\n",
              "    <tr>\n",
              "      <th>3394</th>\n",
              "      <td>cung khan kiếm nhu_cầu áp_lực tăng_giá dự_án c...</td>\n",
              "      <td>0</td>\n",
              "      <td>__label__0</td>\n",
              "      <td>__label__0 cung khan kiếm nhu_cầu áp_lực tăng_...</td>\n",
              "      <td>__label__0</td>\n",
              "      <td>0</td>\n",
              "    </tr>\n",
              "    <tr>\n",
              "      <th>3395</th>\n",
              "      <td>cảnh_tỉnh thanh_niên dân tổ     tốc_độ bàn_thờ...</td>\n",
              "      <td>0</td>\n",
              "      <td>__label__0</td>\n",
              "      <td>__label__0 cảnh_tỉnh thanh_niên dân tổ     tốc...</td>\n",
              "      <td>__label__0</td>\n",
              "      <td>0</td>\n",
              "    </tr>\n",
              "    <tr>\n",
              "      <th>3396</th>\n",
              "      <td>học lái_xe hạng b2 chữa bá_bệnh lãnh_đạo y_tế ...</td>\n",
              "      <td>0</td>\n",
              "      <td>__label__0</td>\n",
              "      <td>__label__0 học lái_xe hạng b2 chữa bá_bệnh lãn...</td>\n",
              "      <td>__label__0</td>\n",
              "      <td>0</td>\n",
              "    </tr>\n",
              "  </tbody>\n",
              "</table>\n",
              "<p>1019 rows × 6 columns</p>\n",
              "</div>"
            ],
            "text/plain": [
              "                                           post_message  ...  predict\n",
              "2378  15 h chiều 14-3 bình_thuận phun xịt khử_trùng ...  ...        0\n",
              "2379  cdc hà_nội hành_khách đi nhật sân_bay triệu_ch...  ...        0\n",
              "2380  bố_già mafia kinh_tế johnathan hạnh nguyễn - s...  ...        0\n",
              "2381  vụ nữ_sinh quảng_ninh lột đồ clip tung mạng_li...  ...        0\n",
              "2382  thạc_sĩ việt nam làm_việc bệnh_viện thâm quyến...  ...        0\n",
              "...                                                 ...  ...      ...\n",
              "3392  liên_minh cứu sông mekong save the mekong kêu_...  ...        0\n",
              "3393  mẹ việt nam anh_hùng 95 may khẩu_trang chống d...  ...        0\n",
              "3394  cung khan kiếm nhu_cầu áp_lực tăng_giá dự_án c...  ...        0\n",
              "3395  cảnh_tỉnh thanh_niên dân tổ     tốc_độ bàn_thờ...  ...        0\n",
              "3396  học lái_xe hạng b2 chữa bá_bệnh lãnh_đạo y_tế ...  ...        0\n",
              "\n",
              "[1019 rows x 6 columns]"
            ]
          },
          "metadata": {
            "tags": []
          },
          "execution_count": 22
        }
      ]
    },
    {
      "cell_type": "code",
      "metadata": {
        "colab": {
          "base_uri": "https://localhost:8080/"
        },
        "id": "eHaOkdGCmX7d",
        "outputId": "292766ed-32b4-4ca7-a8ee-72e034b91f66"
      },
      "source": [
        "test_data['predict'].value_counts()"
      ],
      "execution_count": 23,
      "outputs": [
        {
          "output_type": "execute_result",
          "data": {
            "text/plain": [
              "0    988\n",
              "1     31\n",
              "Name: predict, dtype: int64"
            ]
          },
          "metadata": {
            "tags": []
          },
          "execution_count": 23
        }
      ]
    }
  ]
}